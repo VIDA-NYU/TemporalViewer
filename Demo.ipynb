{
 "cells": [
  {
   "cell_type": "markdown",
   "metadata": {},
   "source": [
    "# Temporal Viewer"
   ]
  },
  {
   "cell_type": "code",
   "execution_count": null,
   "metadata": {},
   "outputs": [],
   "source": [
    "import ModelViewer\n",
    "import pandas as pd"
   ]
  },
  {
   "cell_type": "code",
   "execution_count": null,
   "metadata": {
    "scrolled": true
   },
   "outputs": [],
   "source": [
    "import json\n",
    "  \n",
    "# Opening JSON file\n",
    "f_steps = open('/Users/soniacq/PTG/TemporalViewer/ModelViewer/data/reasoning_check_status.json')\n",
    "f_objects = open('/Users/soniacq/PTG/TemporalViewer/ModelViewer/data/detic_image.json')\n",
    "f_actions = open('/Users/soniacq/PTG/TemporalViewer/ModelViewer/data/egovlp_action_steps.json')\n",
    "f_metadata = open('/Users/soniacq/PTG/TemporalViewer/ModelViewer/data/ngc_0293_13_additional_metadata_v1.json')\n",
    "main_camera_path = '/Users/soniacq/PTG/TemporalViewer/ModelViewer/data/ngc_0293_13-main.mp4'\n",
    "  \n",
    "# Takes file objects and returns JSON object as dictionaries\n",
    "data_steps = json.load(f_steps)\n",
    "data_objects = json.load(f_objects)\n",
    "data_actions = json.load(f_actions)\n",
    "data_metadata = json.load(f_metadata)\n",
    "\n",
    "# create a session\n",
    "session_info = {'reasoningJSONFile': data_steps, 'boundingBoxJSONFile': data_objects,\n",
    "                'egovlpActionJSONFile': data_actions, 'recordingMetadata': data_metadata,\n",
    "                'recordingName': 'ngc_0293_13', 'mainCameraPath': main_camera_path}\n",
    "# print(session_info)"
   ]
  },
  {
   "cell_type": "code",
   "execution_count": null,
   "metadata": {},
   "outputs": [],
   "source": [
    "ModelViewer.plot_datasets_summary(session_info)"
   ]
  },
  {
   "cell_type": "code",
   "execution_count": null,
   "metadata": {},
   "outputs": [],
   "source": []
  },
  {
   "cell_type": "code",
   "execution_count": null,
   "metadata": {},
   "outputs": [],
   "source": []
  },
  {
   "cell_type": "code",
   "execution_count": null,
   "metadata": {},
   "outputs": [],
   "source": []
  }
 ],
 "metadata": {
  "kernelspec": {
   "display_name": "Python 3",
   "language": "python",
   "name": "python3"
  },
  "language_info": {
   "codemirror_mode": {
    "name": "ipython",
    "version": 3
   },
   "file_extension": ".py",
   "mimetype": "text/x-python",
   "name": "python",
   "nbconvert_exporter": "python",
   "pygments_lexer": "ipython3",
   "version": "3.7.4"
  }
 },
 "nbformat": 4,
 "nbformat_minor": 2
}
